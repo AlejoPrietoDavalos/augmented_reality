{
 "cells": [
  {
   "cell_type": "code",
   "execution_count": null,
   "id": "1368b048",
   "metadata": {},
   "outputs": [],
   "source": [
    "import cv2\n",
    "import mediapipe as mp\n",
    "import plotly.graph_objects as go\n",
    "import matplotlib.pyplot as plt\n",
    "\n",
    "mp_hands = mp.solutions.hands\n",
    "mp_drawing = mp.solutions.drawing_utils\n",
    "\n",
    "IMG_NAME = \"2\"\n",
    "image = cv2.imread(f\"{IMG_NAME}.jpeg\")\n",
    "image_rgb = cv2.cvtColor(image, cv2.COLOR_BGR2RGB)"
   ]
  },
  {
   "cell_type": "code",
   "execution_count": null,
   "id": "60f1b100",
   "metadata": {},
   "outputs": [],
   "source": [
    "plt.imshow(image_rgb)"
   ]
  },
  {
   "cell_type": "code",
   "execution_count": null,
   "id": "22c304f0",
   "metadata": {},
   "outputs": [],
   "source": [
    "with mp_hands.Hands(static_image_mode=True) as hands:\n",
    "    results = hands.process(image_rgb)\n",
    "    if results.multi_hand_landmarks:\n",
    "        for hand_landmarks in results.multi_hand_landmarks:\n",
    "            mp_drawing.draw_landmarks(image, hand_landmarks, mp_hands.HAND_CONNECTIONS)\n",
    "\n",
    "            x = [lm.x for lm in hand_landmarks.landmark]\n",
    "            y = [lm.y for lm in hand_landmarks.landmark]\n",
    "            z = [lm.z for lm in hand_landmarks.landmark]\n",
    "\n",
    "            lines = []\n",
    "            for connection in mp_hands.HAND_CONNECTIONS:\n",
    "                i, j = connection\n",
    "                lines.append(go.Scatter3d(\n",
    "                    x=[x[i], x[j]],\n",
    "                    y=[y[i], y[j]],\n",
    "                    z=[z[i], z[j]],\n",
    "                    mode='lines',\n",
    "                    line=dict(color='red', width=3)\n",
    "                ))\n",
    "\n",
    "            fig = go.Figure(data=[\n",
    "                go.Scatter3d(\n",
    "                    x=x, y=y, z=z,\n",
    "                    mode='markers',\n",
    "                    marker=dict(size=5, color='blue')\n",
    "                )\n",
    "            ] + lines)\n",
    "\n",
    "            fig.update_layout(scene=dict(aspectmode='cube'))\n",
    "            fig.show()\n",
    "\n",
    "cv2.imwrite(f\"{IMG_NAME}_detection.jpg\", image)\n"
   ]
  }
 ],
 "metadata": {
  "kernelspec": {
   "display_name": "env",
   "language": "python",
   "name": "python3"
  },
  "language_info": {
   "codemirror_mode": {
    "name": "ipython",
    "version": 3
   },
   "file_extension": ".py",
   "mimetype": "text/x-python",
   "name": "python",
   "nbconvert_exporter": "python",
   "pygments_lexer": "ipython3",
   "version": "3.13.3"
  }
 },
 "nbformat": 4,
 "nbformat_minor": 5
}
